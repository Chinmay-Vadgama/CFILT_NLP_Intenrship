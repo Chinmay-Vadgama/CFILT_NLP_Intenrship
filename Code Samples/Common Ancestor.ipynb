{
 "cells": [
  {
   "cell_type": "markdown",
   "metadata": {
    "toc": "true"
   },
   "source": [
    " # Table of Contents\n",
    "<div class=\"toc\" style=\"margin-top: 1em;\"><ul class=\"toc-item\" id=\"toc-level0\"><li><span><a href=\"http://10.129.2.170:3904/notebooks/Common%20Ancestor.ipynb#function-definition-to-find-common-ancestor-of-modifer-and-head-noun\" data-toc-modified-id=\"function-definition-to-find-common-ancestor-of-modifer-and-head-noun-1\"><span class=\"toc-item-num\">1&nbsp;&nbsp;</span>function definition to find common ancestor of modifer and head noun</a></span></li></ul></div>"
   ]
  },
  {
   "cell_type": "markdown",
   "metadata": {},
   "source": [
    "# function definition to find common ancestor of modifer and head noun"
   ]
  },
  {
   "cell_type": "code",
   "execution_count": 20,
   "metadata": {
    "collapsed": true
   },
   "outputs": [],
   "source": [
    "import requests\n",
    "import urllib"
   ]
  },
  {
   "cell_type": "code",
   "execution_count": 113,
   "metadata": {
    "collapsed": true
   },
   "outputs": [],
   "source": [
    "def Ancestor(mod,head,Sentence):\n",
    "    \"\"\"Returns common ancestor of head and modifier from a dependecy tree of the given sentence.\n",
    "    \n",
    "    * input\n",
    "    :mod: \n",
    "    :head:\n",
    "    \"\"\"\n",
    "    \n",
    "    url = urllib.urlencode({'properties': '{\"annotators\": \"tokenize,ssplit,pos,parse\", \"outputFormat\": \"json\"}'})\n",
    "    r = requests.post(url='http://10.129.2.170:9000/?' + url, data= Sentence)\n",
    "    json_data = r.json()\n",
    "    tree = json_data['sentences'][0]['enhancedDependencies']\n",
    "\n",
    "    path_mod = []\n",
    "    dependancy_mod = []\n",
    "    words = mod\n",
    "    while (words!='ROOT'):\n",
    "        for (idx,i) in enumerate(tree):\n",
    "            if i['dependentGloss']==words:\n",
    "                path_mod.append(i['dependentGloss'])\n",
    "                dependancy_mod.append(i['dep'])\n",
    "                words = i['governorGloss'] \n",
    "                index = idx\n",
    "                break\n",
    "   \n",
    "    path_head = []\n",
    "    dependancy_head = []\n",
    "    words = head\n",
    "   \n",
    "    while (words!='ROOT'):\n",
    "        for (idx,i) in enumerate(tree):\n",
    "            if i['dependentGloss']==words:\n",
    "                path_head.append(i['dependentGloss'])\n",
    "                dependancy_head.append(i['dep'])\n",
    "                words = i['governorGloss'] \n",
    "                index = idx\n",
    "                break\n",
    "\n",
    "   \n",
    "    \n",
    "    res_head = zip(path_head,dependancy_head)\n",
    "    res_mod = zip(path_mod,dependancy_mod)\n",
    "    print res_head\n",
    "    print res_mod\n",
    "   \n",
    "   #common ancestor\n",
    "    flag=0\n",
    "    rel1 = ''\n",
    "    rel2 = ''\n",
    "    for i in res_head:\n",
    "        if(flag==0):\n",
    "            for j in res_mod:\n",
    "                if i[0]==j[0]:\n",
    "                    return(i[0],rel1,rel2)\n",
    "                    flag=1\n",
    "                    break\n",
    "                else:\n",
    "                    rel2 = j[1]\n",
    "                    if(rel2 == 'ROOT'):\n",
    "                        rel2 = ' '\n",
    "        rel1 = i[1]\n",
    "    \n",
    "    \n",
    "    "
   ]
  },
  {
   "cell_type": "code",
   "execution_count": 109,
   "metadata": {},
   "outputs": [
    {
     "name": "stdout",
     "output_type": "stream",
     "text": [
      "[(u'protest', u'nmod:of'), (u'series', u'nmod:in'), (u'participated', u'ROOT')]\n",
      "[(u'students', u'nmod:of'), (u'thousands', u'nsubj'), (u'participated', u'ROOT')]\n"
     ]
    },
    {
     "data": {
      "text/plain": [
       "(u'participated', u'nmod:in', u'nsubj')"
      ]
     },
     "execution_count": 109,
     "metadata": {},
     "output_type": "execute_result"
    }
   ],
   "source": [
    "Ancestor('students','protest','thousands of students participated in series of protest at JNU.')"
   ]
  },
  {
   "cell_type": "code",
   "execution_count": 110,
   "metadata": {},
   "outputs": [
    {
     "name": "stdout",
     "output_type": "stream",
     "text": [
      "[(u'protest', u'nmod:of'), (u'series', u'nmod:in'), (u'participated', u'ROOT')]\n",
      "[(u'JNU', u'nmod:at'), (u'participated', u'ROOT')]\n"
     ]
    },
    {
     "data": {
      "text/plain": [
       "(u'participated', u'nmod:in', u'nmod:at')"
      ]
     },
     "execution_count": 110,
     "metadata": {},
     "output_type": "execute_result"
    }
   ],
   "source": [
    "Ancestor('JNU','protest','thousands of students participated in series of protest at JNU.')"
   ]
  },
  {
   "cell_type": "code",
   "execution_count": null,
   "metadata": {
    "collapsed": true
   },
   "outputs": [],
   "source": [
    "Ancestor()"
   ]
  },
  {
   "cell_type": "code",
   "execution_count": 112,
   "metadata": {},
   "outputs": [
    {
     "name": "stdout",
     "output_type": "stream",
     "text": [
      "[(u'debt', u'dobj'), (u'pay', u'xcomp'), (u'failed', u'ROOT')]\n",
      "[(u'bank', u'nmod:of'), (u'debt', u'dobj'), (u'pay', u'xcomp'), (u'failed', u'ROOT')]\n"
     ]
    },
    {
     "data": {
      "text/plain": [
       "(u'debt', '', u'nmod:of')"
      ]
     },
     "execution_count": 112,
     "metadata": {},
     "output_type": "execute_result"
    }
   ],
   "source": [
    "Ancestor('bank','debt','He failed to pay debt of a bank.')"
   ]
  }
 ],
 "metadata": {
  "kernelspec": {
   "display_name": "Python 2",
   "language": "python",
   "name": "python2"
  },
  "language_info": {
   "codemirror_mode": {
    "name": "ipython",
    "version": 2
   },
   "file_extension": ".py",
   "mimetype": "text/x-python",
   "name": "python",
   "nbconvert_exporter": "python",
   "pygments_lexer": "ipython2",
   "version": "2.7.13"
  },
  "toc": {
   "nav_menu": {},
   "number_sections": true,
   "sideBar": false,
   "skip_h1_title": false,
   "toc_cell": true,
   "toc_position": {},
   "toc_section_display": "block",
   "toc_window_display": true
  }
 },
 "nbformat": 4,
 "nbformat_minor": 2
}
