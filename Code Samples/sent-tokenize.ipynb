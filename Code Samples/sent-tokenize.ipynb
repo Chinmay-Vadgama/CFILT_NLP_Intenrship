{
 "cells": [
  {
   "cell_type": "markdown",
   "metadata": {
    "toc": "true"
   },
   "source": [
    " # Table of Contents\n",
    "<div class=\"toc\" style=\"margin-top: 1em;\"><ul class=\"toc-item\" id=\"toc-level0\"></ul></div>"
   ]
  },
  {
   "cell_type": "code",
   "execution_count": 1,
   "metadata": {
    "collapsed": true
   },
   "outputs": [],
   "source": [
    "from nltk import corenlp"
   ]
  },
  {
   "cell_type": "code",
   "execution_count": 3,
   "metadata": {
    "collapsed": true
   },
   "outputs": [],
   "source": [
    "corenlp_parser = corenlp.CoreNLPParser('http://10.129.2.170:9000')"
   ]
  },
  {
   "cell_type": "code",
   "execution_count": null,
   "metadata": {
    "collapsed": true
   },
   "outputs": [],
   "source": []
  },
  {
   "cell_type": "code",
   "execution_count": null,
   "metadata": {
    "collapsed": true
   },
   "outputs": [],
   "source": []
  },
  {
   "cell_type": "code",
   "execution_count": 5,
   "metadata": {
    "collapsed": true
   },
   "outputs": [],
   "source": [
    "import codecs"
   ]
  },
  {
   "cell_type": "code",
   "execution_count": 29,
   "metadata": {
    "collapsed": true
   },
   "outputs": [],
   "source": [
    "sent = '''Anarchism is a political philosophy that advocates self-governed societies based on voluntary institutions. These are often described as stateless societies, although several authors have defined them more specifically as institutions based on non-hierarchical free associations. Anarchism holds the state to be undesirable, unnecessary, and harmful. While anti-statism is central, anarchism entails opposing authority or hierarchical organisation in the conduct of all human relations, including, but not limited to, the state system.\n",
    "Anarchism draws on many currents of thought and strategy. Anarchism does not offer a fixed body of doctrine from a single particular world view, instead fluxing and flowing as a philosophy. Many types and traditions of anarchism exist, not all of which are mutually exclusive. Anarchist schools of thought can differ fundamentally, supporting anything from extreme individualism to complete collectivism. Strains of anarchism have often been divided into the categories of social and individualist anarchism or similar dual classifications. Anarchism is usually considered a radical left-wing ideology, and much of anarchist economics and anarchist legal philosophy reflect anti-authoritarian interpretations of communism, collectivism, syndicalism, mutualism, or participatory economics.\n",
    "The term \"anarchism\" is a compound word composed from the word \"anarchy\" and the suffix \"-ism\", themselves derived respectively from the Greek , i.e. \"anarchy\" (from , \"anarchos\", meaning \"one without rulers\"; from the privative prefix ἀν- (\"an-\", i.e. \"without\") and , \"archos\", i.e. \"leader\", \"ruler\"; (cf. \"archon\" or , \"arkhē\", i.e. \"authority\", \"sovereignty\", \"realm\", \"magistracy\")) and the suffix or (\"-ismos\", \"-isma\", from the verbal infinitive suffix -ίζειν, \"-izein\"). The first known use of this word was in 1539. Various factions within the French Revolution labelled opponents as anarchists (as Robespierre did the Hébertists) although few shared many views of later anarchists. There would be many revolutionaries of the early nineteenth century who contributed to the anarchist doctrines of the next generation, such as William Godwin and Wilhelm Weitling, but they did not use the word \"anarchist\" or \"anarchism\" in describing themselves or their beliefs.\n",
    "The first political philosopher to call himself an anarchist was Pierre-Joseph Proudhon, marking the formal birth of anarchism in the mid-nineteenth century. Since the 1890s, and beginning in France, the term \"libertarianism\" has often been used as a synonym for anarchism and was used almost exclusively in this sense until the 1950s in the United States; its use as a synonym is still common outside the United States. On the other hand, some use \"libertarianism\" to refer to individualistic free-market philosophy only, referring to free-market anarchism as \"libertarian anarchism\".'''"
   ]
  },
  {
   "cell_type": "code",
   "execution_count": 30,
   "metadata": {
    "collapsed": true
   },
   "outputs": [],
   "source": [
    "sent_ = codecs.decode(sent, 'utf8')"
   ]
  },
  {
   "cell_type": "code",
   "execution_count": null,
   "metadata": {
    "collapsed": true
   },
   "outputs": [],
   "source": []
  },
  {
   "cell_type": "code",
   "execution_count": 31,
   "metadata": {
    "collapsed": true
   },
   "outputs": [],
   "source": [
    "ob = corenlp_parser.api_call(sent_, properties={'annotators': 'ssplit'})"
   ]
  },
  {
   "cell_type": "code",
   "execution_count": 32,
   "metadata": {},
   "outputs": [
    {
     "name": "stdout",
     "output_type": "stream",
     "text": [
      "0\n",
      "Anarchism is a political philosophy that advocates self-governed societies based on voluntary institutions .\n",
      "1\n",
      "These are often described as stateless societies , although several authors have defined them more specifically as institutions based on non-hierarchical free associations .\n",
      "2\n",
      "Anarchism holds the state to be undesirable , unnecessary , and harmful .\n",
      "3\n",
      "While anti-statism is central , anarchism entails opposing authority or hierarchical organisation in the conduct of all human relations , including , but not limited to , the state system .\n",
      "4\n",
      "Anarchism draws on many currents of thought and strategy .\n",
      "5\n",
      "Anarchism does not offer a fixed body of doctrine from a single particular world view , instead fluxing and flowing as a philosophy .\n",
      "6\n",
      "Many types and traditions of anarchism exist , not all of which are mutually exclusive .\n",
      "7\n",
      "Anarchist schools of thought can differ fundamentally , supporting anything from extreme individualism to complete collectivism .\n",
      "8\n",
      "Strains of anarchism have often been divided into the categories of social and individualist anarchism or similar dual classifications .\n",
      "9\n",
      "Anarchism is usually considered a radical left-wing ideology , and much of anarchist economics and anarchist legal philosophy reflect anti-authoritarian interpretations of communism , collectivism , syndicalism , mutualism , or participatory economics .\n",
      "10\n",
      "The term `` anarchism '' is a compound word composed from the word `` anarchy '' and the suffix '' - ism '' , themselves derived respectively from the Greek , i.e. `` anarchy '' -LRB- from , `` anarchos '' , meaning `` one without rulers '' ; from the privative prefix ἀν - -LRB- `` an - '' , i.e. `` without '' -RRB- and , `` archos '' , i.e. `` leader '' , `` ruler '' ; -LRB- cf. `` archon '' or , `` arkhē '' , i.e. `` authority '' , `` sovereignty '' , `` realm '' , `` magistracy '' -RRB- -RRB- and the suffix or -LRB- '' - ismos '' , '' - isma '' , from the verbal infinitive suffix - ίζειν , '' - izein '' -RRB- .\n",
      "11\n",
      "The first known use of this word was in 1539 .\n",
      "12\n",
      "Various factions within the French Revolution labelled opponents as anarchists -LRB- as Robespierre did the Hébertists -RRB- although few shared many views of later anarchists .\n",
      "13\n",
      "There would be many revolutionaries of the early nineteenth century who contributed to the anarchist doctrines of the next generation , such as William Godwin and Wilhelm Weitling , but they did not use the word `` anarchist '' or `` anarchism '' in describing themselves or their beliefs .\n",
      "14\n",
      "The first political philosopher to call himself an anarchist was Pierre-Joseph Proudhon , marking the formal birth of anarchism in the mid-nineteenth century .\n",
      "15\n",
      "Since the 1890s , and beginning in France , the term `` libertarianism '' has often been used as a synonym for anarchism and was used almost exclusively in this sense until the 1950s in the United States ; its use as a synonym is still common outside the United States .\n",
      "16\n",
      "On the other hand , some use `` libertarianism '' to refer to individualistic free-market philosophy only , referring to free-market anarchism as `` libertarian anarchism '' .\n"
     ]
    }
   ],
   "source": [
    "result = []\n",
    "for s in ob['sentences']:\n",
    "    print s['index']\n",
    "    result.append( [] )\n",
    "    for t in s['tokens']:\n",
    "        print t['word'],\n",
    "        result[-1].append( t['word'] )\n",
    "    print"
   ]
  },
  {
   "cell_type": "code",
   "execution_count": 33,
   "metadata": {},
   "outputs": [
    {
     "name": "stdout",
     "output_type": "stream",
     "text": [
      "Anarchism is a political philosophy that advocates self-governed societies based on voluntary institutions .\n",
      "These are often described as stateless societies , although several authors have defined them more specifically as institutions based on non-hierarchical free associations .\n",
      "Anarchism holds the state to be undesirable , unnecessary , and harmful .\n",
      "While anti-statism is central , anarchism entails opposing authority or hierarchical organisation in the conduct of all human relations , including , but not limited to , the state system .\n",
      "Anarchism draws on many currents of thought and strategy .\n",
      "Anarchism does not offer a fixed body of doctrine from a single particular world view , instead fluxing and flowing as a philosophy .\n",
      "Many types and traditions of anarchism exist , not all of which are mutually exclusive .\n",
      "Anarchist schools of thought can differ fundamentally , supporting anything from extreme individualism to complete collectivism .\n",
      "Strains of anarchism have often been divided into the categories of social and individualist anarchism or similar dual classifications .\n",
      "Anarchism is usually considered a radical left-wing ideology , and much of anarchist economics and anarchist legal philosophy reflect anti-authoritarian interpretations of communism , collectivism , syndicalism , mutualism , or participatory economics .\n",
      "The term `` anarchism '' is a compound word composed from the word `` anarchy '' and the suffix '' - ism '' , themselves derived respectively from the Greek , i.e. `` anarchy '' ( from , `` anarchos '' , meaning `` one without rulers '' ; from the privative prefix ἀν - ( `` an - '' , i.e. `` without '' ) and , `` archos '' , i.e. `` leader '' , `` ruler '' ; ( cf. `` archon '' or , `` arkhē '' , i.e. `` authority '' , `` sovereignty '' , `` realm '' , `` magistracy '' ) ) and the suffix or ( '' - ismos '' , '' - isma '' , from the verbal infinitive suffix - ίζειν , '' - izein '' ) .\n",
      "The first known use of this word was in 1539 .\n",
      "Various factions within the French Revolution labelled opponents as anarchists ( as Robespierre did the Hébertists ) although few shared many views of later anarchists .\n",
      "There would be many revolutionaries of the early nineteenth century who contributed to the anarchist doctrines of the next generation , such as William Godwin and Wilhelm Weitling , but they did not use the word `` anarchist '' or `` anarchism '' in describing themselves or their beliefs .\n",
      "The first political philosopher to call himself an anarchist was Pierre-Joseph Proudhon , marking the formal birth of anarchism in the mid-nineteenth century .\n",
      "Since the 1890s , and beginning in France , the term `` libertarianism '' has often been used as a synonym for anarchism and was used almost exclusively in this sense until the 1950s in the United States ; its use as a synonym is still common outside the United States .\n",
      "On the other hand , some use `` libertarianism '' to refer to individualistic free-market philosophy only , referring to free-market anarchism as `` libertarian anarchism '' .\n"
     ]
    }
   ],
   "source": [
    "def replace_spl_tokens(word):\n",
    "    if word == '-LRB-':\n",
    "        return '('\n",
    "    if word == '-RRB-':\n",
    "        return ')'\n",
    "    return word\n",
    "    \n",
    "for s in result:\n",
    "    s = map(replace_spl_tokens, s)\n",
    "    print ' '.join(s)"
   ]
  },
  {
   "cell_type": "code",
   "execution_count": 34,
   "metadata": {
    "collapsed": true
   },
   "outputs": [],
   "source": [
    "with open('temp-sent-tokenize.txt', 'w') as ofile:\n",
    "    for s in result:\n",
    "        line = map(replace_spl_tokens, s)\n",
    "        line = ' '.join(line)\n",
    "        line = codecs.encode(line, 'utf8')\n",
    "        ofile.write(line + '\\n')"
   ]
  },
  {
   "cell_type": "code",
   "execution_count": null,
   "metadata": {
    "collapsed": true
   },
   "outputs": [],
   "source": []
  },
  {
   "cell_type": "code",
   "execution_count": 21,
   "metadata": {
    "collapsed": true
   },
   "outputs": [],
   "source": [
    "from nltk import sent_tokenize"
   ]
  },
  {
   "cell_type": "code",
   "execution_count": 22,
   "metadata": {},
   "outputs": [
    {
     "data": {
      "text/plain": [
       "['The term \"anarchism\" is a compound word composed from the word \"anarchy\" and the suffix \"-ism\", themselves derived respectively from the Greek , i.e.',\n",
       " '\"anarchy\" (from , \"anarchos\", meaning \"one without rulers\"; from the privative prefix \\xe1\\xbc\\x80\\xce\\xbd- (\"an-\", i.e.',\n",
       " '\"without\") and , \"archos\", i.e.',\n",
       " '\"leader\", \"ruler\"; (cf.',\n",
       " '\"archon\" or , \"arkh\\xc4\\x93\", i.e.',\n",
       " '\"authority\", \"sovereignty\", \"realm\", \"magistracy\")) and the suffix or (\"-ismos\", \"-isma\", from the verbal infinitive suffix -\\xce\\xaf\\xce\\xb6\\xce\\xb5\\xce\\xb9\\xce\\xbd, \"-izein\").',\n",
       " 'The first known use of this word was in 1539.',\n",
       " 'Various factions within the French Revolution labelled opponents as anarchists (as Robespierre did the H\\xc3\\xa9bertists) although few shared many views of later anarchists.',\n",
       " 'There would be many revolutionaries of the early nineteenth century who contributed to the anarchist doctrines of the next generation, such as William Godwin and Wilhelm Weitling, but they did not use the word \"anarchist\" or \"anarchism\" in describing themselves or their beliefs.']"
      ]
     },
     "execution_count": 22,
     "metadata": {},
     "output_type": "execute_result"
    }
   ],
   "source": [
    "sent_tokenize(sent)"
   ]
  }
 ],
 "metadata": {
  "kernelspec": {
   "display_name": "Python 2",
   "language": "python",
   "name": "python2"
  },
  "language_info": {
   "codemirror_mode": {
    "name": "ipython",
    "version": 2
   },
   "file_extension": ".py",
   "mimetype": "text/x-python",
   "name": "python",
   "nbconvert_exporter": "python",
   "pygments_lexer": "ipython2",
   "version": "2.7.13"
  },
  "toc": {
   "nav_menu": {},
   "number_sections": true,
   "sideBar": false,
   "skip_h1_title": false,
   "toc_cell": true,
   "toc_position": {},
   "toc_section_display": "block",
   "toc_window_display": true
  }
 },
 "nbformat": 4,
 "nbformat_minor": 2
}
